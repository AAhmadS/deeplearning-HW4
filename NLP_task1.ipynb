{
  "nbformat": 4,
  "nbformat_minor": 0,
  "metadata": {
    "colab": {
      "provenance": [],
      "include_colab_link": true
    },
    "kernelspec": {
      "name": "python3",
      "display_name": "Python 3"
    },
    "language_info": {
      "name": "python"
    },
    "accelerator": "GPU",
    "gpuClass": "standard"
  },
  "cells": [
    {
      "cell_type": "markdown",
      "metadata": {
        "id": "view-in-github",
        "colab_type": "text"
      },
      "source": [
        "<a href=\"https://colab.research.google.com/github/AAhmadS/deeplearning-HW4/blob/main/NLP_task1.ipynb\" target=\"_parent\"><img src=\"https://colab.research.google.com/assets/colab-badge.svg\" alt=\"Open In Colab\"/></a>"
      ]
    },
    {
      "cell_type": "code",
      "source": [
        "!pip install transformers\n",
        "!pip install torchtext==0.5.0"
      ],
      "metadata": {
        "colab": {
          "base_uri": "https://localhost:8080/"
        },
        "id": "vawylkHBIJfG",
        "outputId": "825d1fad-cadc-4c15-e763-250297263efe"
      },
      "execution_count": null,
      "outputs": [
        {
          "output_type": "stream",
          "name": "stdout",
          "text": [
            "Looking in indexes: https://pypi.org/simple, https://us-python.pkg.dev/colab-wheels/public/simple/\n",
            "Collecting transformers\n",
            "  Downloading transformers-4.26.0-py3-none-any.whl (6.3 MB)\n",
            "\u001b[2K     \u001b[90m━━━━━━━━━━━━━━━━━━━━━━━━━━━━━━━━━━━━━━━━\u001b[0m \u001b[32m6.3/6.3 MB\u001b[0m \u001b[31m52.2 MB/s\u001b[0m eta \u001b[36m0:00:00\u001b[0m\n",
            "\u001b[?25hRequirement already satisfied: requests in /usr/local/lib/python3.8/dist-packages (from transformers) (2.25.1)\n",
            "Requirement already satisfied: tqdm>=4.27 in /usr/local/lib/python3.8/dist-packages (from transformers) (4.64.1)\n",
            "Requirement already satisfied: pyyaml>=5.1 in /usr/local/lib/python3.8/dist-packages (from transformers) (6.0)\n",
            "Collecting huggingface-hub<1.0,>=0.11.0\n",
            "  Downloading huggingface_hub-0.12.0-py3-none-any.whl (190 kB)\n",
            "\u001b[2K     \u001b[90m━━━━━━━━━━━━━━━━━━━━━━━━━━━━━━━━━━━━━━\u001b[0m \u001b[32m190.3/190.3 KB\u001b[0m \u001b[31m25.4 MB/s\u001b[0m eta \u001b[36m0:00:00\u001b[0m\n",
            "\u001b[?25hCollecting tokenizers!=0.11.3,<0.14,>=0.11.1\n",
            "  Downloading tokenizers-0.13.2-cp38-cp38-manylinux_2_17_x86_64.manylinux2014_x86_64.whl (7.6 MB)\n",
            "\u001b[2K     \u001b[90m━━━━━━━━━━━━━━━━━━━━━━━━━━━━━━━━━━━━━━━━\u001b[0m \u001b[32m7.6/7.6 MB\u001b[0m \u001b[31m39.4 MB/s\u001b[0m eta \u001b[36m0:00:00\u001b[0m\n",
            "\u001b[?25hRequirement already satisfied: packaging>=20.0 in /usr/local/lib/python3.8/dist-packages (from transformers) (23.0)\n",
            "Requirement already satisfied: filelock in /usr/local/lib/python3.8/dist-packages (from transformers) (3.9.0)\n",
            "Requirement already satisfied: regex!=2019.12.17 in /usr/local/lib/python3.8/dist-packages (from transformers) (2022.6.2)\n",
            "Requirement already satisfied: numpy>=1.17 in /usr/local/lib/python3.8/dist-packages (from transformers) (1.21.6)\n",
            "Requirement already satisfied: typing-extensions>=3.7.4.3 in /usr/local/lib/python3.8/dist-packages (from huggingface-hub<1.0,>=0.11.0->transformers) (4.4.0)\n",
            "Requirement already satisfied: idna<3,>=2.5 in /usr/local/lib/python3.8/dist-packages (from requests->transformers) (2.10)\n",
            "Requirement already satisfied: chardet<5,>=3.0.2 in /usr/local/lib/python3.8/dist-packages (from requests->transformers) (4.0.0)\n",
            "Requirement already satisfied: certifi>=2017.4.17 in /usr/local/lib/python3.8/dist-packages (from requests->transformers) (2022.12.7)\n",
            "Requirement already satisfied: urllib3<1.27,>=1.21.1 in /usr/local/lib/python3.8/dist-packages (from requests->transformers) (1.24.3)\n",
            "Installing collected packages: tokenizers, huggingface-hub, transformers\n",
            "Successfully installed huggingface-hub-0.12.0 tokenizers-0.13.2 transformers-4.26.0\n",
            "Looking in indexes: https://pypi.org/simple, https://us-python.pkg.dev/colab-wheels/public/simple/\n",
            "Collecting torchtext==0.5.0\n",
            "  Downloading torchtext-0.5.0-py3-none-any.whl (73 kB)\n",
            "\u001b[2K     \u001b[90m━━━━━━━━━━━━━━━━━━━━━━━━━━━━━━━━━━━━━━━━\u001b[0m \u001b[32m73.2/73.2 KB\u001b[0m \u001b[31m3.2 MB/s\u001b[0m eta \u001b[36m0:00:00\u001b[0m\n",
            "\u001b[?25hRequirement already satisfied: requests in /usr/local/lib/python3.8/dist-packages (from torchtext==0.5.0) (2.25.1)\n",
            "Requirement already satisfied: numpy in /usr/local/lib/python3.8/dist-packages (from torchtext==0.5.0) (1.21.6)\n",
            "Requirement already satisfied: six in /usr/local/lib/python3.8/dist-packages (from torchtext==0.5.0) (1.15.0)\n",
            "Requirement already satisfied: torch in /usr/local/lib/python3.8/dist-packages (from torchtext==0.5.0) (1.13.1+cu116)\n",
            "Collecting sentencepiece\n",
            "  Downloading sentencepiece-0.1.97-cp38-cp38-manylinux_2_17_x86_64.manylinux2014_x86_64.whl (1.3 MB)\n",
            "\u001b[2K     \u001b[90m━━━━━━━━━━━━━━━━━━━━━━━━━━━━━━━━━━━━━━━━\u001b[0m \u001b[32m1.3/1.3 MB\u001b[0m \u001b[31m22.7 MB/s\u001b[0m eta \u001b[36m0:00:00\u001b[0m\n",
            "\u001b[?25hRequirement already satisfied: tqdm in /usr/local/lib/python3.8/dist-packages (from torchtext==0.5.0) (4.64.1)\n",
            "Requirement already satisfied: certifi>=2017.4.17 in /usr/local/lib/python3.8/dist-packages (from requests->torchtext==0.5.0) (2022.12.7)\n",
            "Requirement already satisfied: idna<3,>=2.5 in /usr/local/lib/python3.8/dist-packages (from requests->torchtext==0.5.0) (2.10)\n",
            "Requirement already satisfied: urllib3<1.27,>=1.21.1 in /usr/local/lib/python3.8/dist-packages (from requests->torchtext==0.5.0) (1.24.3)\n",
            "Requirement already satisfied: chardet<5,>=3.0.2 in /usr/local/lib/python3.8/dist-packages (from requests->torchtext==0.5.0) (4.0.0)\n",
            "Requirement already satisfied: typing-extensions in /usr/local/lib/python3.8/dist-packages (from torch->torchtext==0.5.0) (4.4.0)\n",
            "Installing collected packages: sentencepiece, torchtext\n",
            "  Attempting uninstall: torchtext\n",
            "    Found existing installation: torchtext 0.14.1\n",
            "    Uninstalling torchtext-0.14.1:\n",
            "      Successfully uninstalled torchtext-0.14.1\n",
            "Successfully installed sentencepiece-0.1.97 torchtext-0.5.0\n"
          ]
        }
      ]
    },
    {
      "cell_type": "code",
      "execution_count": null,
      "metadata": {
        "id": "TUpGx2RHGm9y"
      },
      "outputs": [],
      "source": [
        "import pandas as pd\n",
        "import numpy as np\n",
        "from numpy import pad\n",
        "import matplotlib.pyplot as plt\n",
        "plt.switch_backend('agg')\n",
        "%matplotlib inline\n",
        "import matplotlib.ticker as ticker\n",
        "import torch\n",
        "from torch import nn\n",
        "import torchtext\n",
        "from torchtext.vocab import Vocab\n",
        "from torch.nn.utils.rnn import pad_sequence\n",
        "from torch.utils.data import DataLoader, Dataset, TensorDataset\n",
        "from collections import Counter\n",
        "from torchtext.data.utils import get_tokenizer\n",
        "import nltk\n",
        "from nltk.tokenize import sent_tokenize\n",
        "from transformers import pipeline, AutoTokenizer\n",
        "from __future__ import unicode_literals, print_function, division\n",
        "from torch import optim\n",
        "import torch.nn.functional as F\n",
        "import random\n",
        "\n",
        "from tqdm import tqdm"
      ]
    },
    {
      "cell_type": "markdown",
      "source": [
        "#Section 1 : Loading data and preprocessing\n"
      ],
      "metadata": {
        "id": "hPPqwaRDGupV"
      }
    },
    {
      "cell_type": "code",
      "source": [
        "tokenizer = AutoTokenizer.from_pretrained('bolbolzaban/gpt2-persian')"
      ],
      "metadata": {
        "colab": {
          "base_uri": "https://localhost:8080/"
        },
        "id": "vvoSLsPCHRiN",
        "outputId": "096b34c5-1113-4ddf-bc35-65f15ffbb3e6"
      },
      "execution_count": 424,
      "outputs": [
        {
          "output_type": "stream",
          "name": "stderr",
          "text": [
            "Special tokens have been added in the vocabulary, make sure the associated word embeddings are fine-tuned or trained.\n"
          ]
        }
      ]
    },
    {
      "cell_type": "code",
      "source": [
        "with open(\"ferdousi.txt\",\"r\") as fle:\n",
        "  file = fle.read().splitlines()[2:]"
      ],
      "metadata": {
        "id": "Rn0qlGGYZCk9"
      },
      "execution_count": 425,
      "outputs": []
    },
    {
      "cell_type": "code",
      "source": [
        "sentences = [tokenizer.tokenize(x) for x in file]"
      ],
      "metadata": {
        "id": "AqZFVjB45bbD"
      },
      "execution_count": 426,
      "outputs": []
    },
    {
      "cell_type": "code",
      "source": [
        "tokenized = [tokenizer.convert_tokens_to_ids(x) for x in sentences]"
      ],
      "metadata": {
        "id": "QP4wPmTcDw4z"
      },
      "execution_count": 427,
      "outputs": []
    },
    {
      "cell_type": "code",
      "source": [
        "sentences[0]"
      ],
      "metadata": {
        "colab": {
          "base_uri": "https://localhost:8080/"
        },
        "id": "b6UCS45n6RlO",
        "outputId": "ad8f6035-e4de-49a3-e0eb-8932375ce9b5"
      },
      "execution_count": 428,
      "outputs": [
        {
          "output_type": "execute_result",
          "data": {
            "text/plain": [
              "['▁به', '▁نام', '▁خداوند', '▁جان', '▁و', '▁خرد']"
            ]
          },
          "metadata": {},
          "execution_count": 428
        }
      ]
    },
    {
      "cell_type": "code",
      "source": [
        "max_len=0\n",
        "max_num=0\n",
        "for x in tokenized:\n",
        "  if(max_len<len(x)):max_len = len(x)\n",
        "  if(max(x)>max_num):\n",
        "    max_num = max(x)\n",
        "print(max_len, max_num)"
      ],
      "metadata": {
        "colab": {
          "base_uri": "https://localhost:8080/"
        },
        "id": "U-2WdaF3GmNV",
        "outputId": "efde0a29-63e5-4bbd-a777-57c205d90577"
      },
      "execution_count": 429,
      "outputs": [
        {
          "output_type": "stream",
          "name": "stdout",
          "text": [
            "14 24999\n"
          ]
        }
      ]
    },
    {
      "cell_type": "code",
      "source": [
        "device = torch.device(\"cuda\") if torch.cuda.is_available() else torch.device(\"cpu\")\n",
        "print(f'Using {device} for inference')\n",
        "# device=torch.device(\"cpu\")"
      ],
      "metadata": {
        "colab": {
          "base_uri": "https://localhost:8080/"
        },
        "id": "LWKsHDOHZtLA",
        "outputId": "6a947902-ad54-4420-dfc5-df8c46303f4d"
      },
      "execution_count": 430,
      "outputs": [
        {
          "output_type": "stream",
          "name": "stdout",
          "text": [
            "Using cuda for inference\n"
          ]
        }
      ]
    },
    {
      "cell_type": "code",
      "source": [
        "class Lang:\n",
        "    def __init__(self, name):\n",
        "        self.name = name\n",
        "        self.word2index = {'[BOP]':10, '<unk>':0, tokenizer.eos_token : tokenizer.eos_token_id, tokenizer.bos_token : tokenizer.bos_token_id}\n",
        "        self.word2count = {}\n",
        "        self.index2word = {tokenizer.bos_token_id: tokenizer.bos_token, tokenizer.eos_token_id: tokenizer.eos_token, 10:'[BOP]', 0:'<unk>'}\n",
        "        self.n_words = 25000 \n",
        "\n",
        "    def addSentence(self, sentences, tokenized):\n",
        "        for i in range(len(sentences)):\n",
        "          for j in range(len(sentences[i])):\n",
        "            self.addWord(sentences[i][j],tokenized[i][j])\n",
        "\n",
        "    def addWord(self, word, index):\n",
        "        if word not in self.word2index:\n",
        "            self.word2index[word] = index\n",
        "            self.word2count[word] = 1\n",
        "            self.index2word[index] = word\n",
        "        else:\n",
        "            self.word2count[word] += 1"
      ],
      "metadata": {
        "id": "M_eCz4ypNbMo"
      },
      "execution_count": 431,
      "outputs": []
    },
    {
      "cell_type": "code",
      "source": [
        "po_persian = Lang(\"persian\")\n",
        "po_persian.addSentence(sentences,tokenized)"
      ],
      "metadata": {
        "id": "QZ5aHnHPXLeh"
      },
      "execution_count": 432,
      "outputs": []
    },
    {
      "cell_type": "code",
      "source": [
        "input_lang = po_persian\n",
        "output_lang = po_persian\n",
        "SB_token = '[BOP]'\n",
        "SB_token_id = 10\n",
        "WSpace_token_id=0\n",
        "sentences\n",
        "tokenized\n",
        "Global_pad_arg = 14\n",
        "\n",
        "def indexesFromSentence(lang, sentence_ind):\n",
        "    return [lang.word2index[word] for word in sentences[sentence_ind]]\n",
        "\n",
        "\n",
        "def tensorFromSentence(lang, sentence_ind, pad_arg, code=0):\n",
        "    indexes = indexesFromSentence(lang, (sentence_ind)%99217)\n",
        "    while len(indexes)<pad_arg:\n",
        "      indexes.append(WSpace_token_id)\n",
        "    if code ==1 :\n",
        "      indexes.append(tokenizer.eos_token_id)\n",
        "    else:\n",
        "      indexes.append(SB_token_id)\n",
        "    return torch.tensor(indexes, dtype=torch.int32).view(-1, 1)\n",
        "\n",
        "\n",
        "def tensorsFromPair(pair_ind):\n",
        "    input_tensor = torch.cat((tensorFromSentence(input_lang, 2*pair_ind, 14),tensorFromSentence(input_lang,2*pair_ind+1,14,code=1)))\n",
        "    target_tensor = torch.cat((tensorFromSentence(output_lang,2*pair_ind+2, 14),tensorFromSentence(output_lang, 2*pair_ind+3, 14,code=1)))\n",
        "    return np.array(input_tensor), np.array(target_tensor)"
      ],
      "metadata": {
        "id": "SFYqPmaZnNDj"
      },
      "execution_count": 433,
      "outputs": []
    },
    {
      "cell_type": "code",
      "source": [
        "train_data = np.array([tensorsFromPair(x) for x in range(49608)])"
      ],
      "metadata": {
        "id": "3Pf3bWMLHO4n"
      },
      "execution_count": 434,
      "outputs": []
    },
    {
      "cell_type": "code",
      "source": [
        "X = train_data[:,0,:].reshape((49608,30))\n",
        "y = train_data[:,1,:].reshape((49608,30))\n",
        "\n",
        "X = torch.from_numpy(X)\n",
        "y = torch.from_numpy(y)\n",
        "\n",
        "train_dataset = TensorDataset(X, y)\n",
        "train_dataloader = DataLoader(train_dataset, batch_size=64, shuffle=True)"
      ],
      "metadata": {
        "id": "cNa_nGLqEKZH"
      },
      "execution_count": 438,
      "outputs": []
    },
    {
      "cell_type": "markdown",
      "source": [
        "#Section 2 : LSTM model"
      ],
      "metadata": {
        "id": "pNfDaf5oZQHv"
      }
    },
    {
      "cell_type": "markdown",
      "source": [
        "##Training Subsection:"
      ],
      "metadata": {
        "id": "Kr8ZY4xxcSLD"
      }
    },
    {
      "cell_type": "code",
      "source": [
        "def calculate_accuracy(y_pred, y):\n",
        "    top_pred = y_pred.argmax(1, keepdim=True).reshape(y.size())\n",
        "    correct = top_pred.eq(y.view_as(top_pred)).sum()\n",
        "    acc = correct.float() / y.shape[0]\n",
        "    return acc"
      ],
      "metadata": {
        "id": "YrH3sZEFVxql"
      },
      "execution_count": 437,
      "outputs": []
    },
    {
      "cell_type": "code",
      "source": [
        "class Encoder(nn.Module):\n",
        "  def __init__(self, input_size, embedding_size, hidden_size, num_layers, dropout_p):\n",
        "    super(Encoder, self).__init__()\n",
        "\n",
        "    self.hidden_size = hidden_size\n",
        "    self.num_layers = num_layers\n",
        "\n",
        "    self.dropout = nn.Dropout(dropout_p)\n",
        "    self.embedding = nn.Embedding(input_size, embedding_size)\n",
        "    self.lstm = nn.LSTM(embedding_size, hidden_size, num_layers, dropout=dropout_p)\n",
        "\n",
        "  def forward(self, input):\n",
        "    embedding = self.dropout(self.embedding(input))\n",
        "    output, (hidden, cell) = self.lstm(embedding)\n",
        "\n",
        "    return hidden, cell\n",
        "\n",
        "\n",
        "class Decoder(nn.Module):\n",
        "  def __init__(self, input_size, embedding_size, hidden_size, num_layers, dropout_p):\n",
        "    super(Decoder, self).__init__()\n",
        "\n",
        "    self.hidden_size = hidden_size\n",
        "    self.num_layers = num_layers\n",
        "\n",
        "    self.dropout = nn.Dropout(dropout_p)\n",
        "    self.embedding = nn.Embedding(input_size, embedding_size)\n",
        "    self.lstm = nn.LSTM(embedding_size, hidden_size, num_layers, dropout=dropout_p)\n",
        "    self.fc = nn.Linear(hidden_size, input_size)\n",
        "    self.softmax = nn.Softmax(dim=-1)\n",
        "\n",
        "  def forward(self, input, hidden, cell):\n",
        "    input = input.unsqueeze(0)\n",
        "\n",
        "    embedding = self.dropout(self.embedding(input))\n",
        "    output, (hidden, cell) = self.lstm(embedding,(hidden,cell))\n",
        "    prediction = self.softmax(self.fc(output))\n",
        "    prediction = prediction.squeeze(0)\n",
        "\n",
        "    return prediction, hidden, cell \n",
        "\n",
        "\n",
        "class Seq2Seq(nn.Module):\n",
        "  def __init__(self, encoder, decoder):\n",
        "    super(Seq2Seq, self).__init__()\n",
        "    self.encoder = encoder\n",
        "    self.decoder = decoder\n",
        "\n",
        "  def forward(self, input, target, teacher_force_ratio=0.5, vocab_size=25000):\n",
        "    batch_size = input.shape[1]\n",
        "    target_len  = target.shape[0]\n",
        "\n",
        "    outputs = torch.zeros(target_len, batch_size, vocab_size, device=device)\n",
        "\n",
        "    hidden, cell = self.encoder(input)\n",
        "\n",
        "    x = torch.ones_like(target[0] , device=device)*8\n",
        "\n",
        "    for t in range(0, target_len):\n",
        "      output, hidden, cell = self.decoder(x, hidden, cell)\n",
        "      \n",
        "      outputs[t] = output\n",
        "\n",
        "      best_guess = output.argmax(dim=1)\n",
        "\n",
        "      x = target[t] if random.random()<teacher_force_ratio else best_guess\n",
        "\n",
        "    return outputs\n"
      ],
      "metadata": {
        "id": "ya1pmSNUIM2W"
      },
      "execution_count": 439,
      "outputs": []
    },
    {
      "cell_type": "code",
      "source": [
        "num_epochs = 5\n",
        "learning_rate=1e-3\n",
        "batch_size=1\n",
        "input_size = po_persian.n_words\n",
        "embedding_size = 128\n",
        "hidden_size = 128\n",
        "num_layers = 2\n",
        "dropout=0.5"
      ],
      "metadata": {
        "id": "hzSH_4DANPsb"
      },
      "execution_count": 440,
      "outputs": []
    },
    {
      "cell_type": "code",
      "source": [
        "encoder1 = Encoder(input_size, embedding_size, hidden_size, num_layers, dropout).to(device)\n",
        "decoder1 = Decoder(input_size, embedding_size, hidden_size, num_layers, dropout).to(device)\n",
        "\n",
        "model = Seq2Seq(encoder1, decoder1)"
      ],
      "metadata": {
        "id": "pIMlOO5LQOHS"
      },
      "execution_count": 441,
      "outputs": []
    },
    {
      "cell_type": "code",
      "source": [
        "optimizer = torch.optim.Adam(model.parameters(), lr=learning_rate, capturable=True)\n",
        "criterion = nn.CrossEntropyLoss(ignore_index=0)"
      ],
      "metadata": {
        "id": "YVAIFzWzVb5E"
      },
      "execution_count": 442,
      "outputs": []
    },
    {
      "cell_type": "code",
      "source": [
        "losses = []\n",
        "accs = []\n",
        "model.train()\n",
        "for epoch in range(num_epochs):\n",
        "    epoch_loss = 0\n",
        "    accuracy = 0\n",
        "    with tqdm(enumerate(train_dataloader),total=len(train_dataloader)) as pbar:\n",
        "      for i,(X, y) in pbar:\n",
        "          count+=1\n",
        "          X = X.T.to(device)\n",
        "          y = y.T.type(torch.LongTensor).to(device)\n",
        "\n",
        "          optimizer.zero_grad()\n",
        "          outputs = model(X,y)\n",
        "          outputs = outputs[1:].reshape(-1,outputs.shape[2])\n",
        "          y = y[1:].reshape(-1)\n",
        "\n",
        "\n",
        "          loss = criterion(outputs, y)\n",
        "          acc = calculate_accuracy(outputs, y)\n",
        "          accuracy += acc\n",
        "          epoch_loss += loss\n",
        "\n",
        "          loss.backward()\n",
        "\n",
        "          torch.nn.utils.clip_grad_norm_(model.parameters(),max_norm=1)\n",
        "          optimizer.step()\n",
        "\n",
        "          pbar.set_description(f'EPOCH:{epoch+1} - Loss: {epoch_loss/(i+1):.4f} - Accuracy: {accuracy*100/(i+1):.4f}%')\n",
        "\n",
        "          if(count>5000):break\n",
        "      losses.append((epoch_loss/len(pbar)).cpu().item())\n",
        "      accs.append((accuracy*100/len(pbar)).cpu().item())\n",
        "      if (losses[-1]==min(losses)):\n",
        "          torch.save(model.state_dict(), 'Ferdousi_lstm.pth')"
      ],
      "metadata": {
        "colab": {
          "base_uri": "https://localhost:8080/"
        },
        "id": "pFT9xVnkQ4lh",
        "outputId": "9ab02f58-c893-4929-8030-8dbba90ce12c"
      },
      "execution_count": 443,
      "outputs": [
        {
          "output_type": "stream",
          "name": "stderr",
          "text": [
            "EPOCH:1 - Loss: 9.9764 - Accuracy: 7.6332%: 100%|██████████| 776/776 [01:45<00:00,  7.38it/s]\n",
            "EPOCH:2 - Loss: 9.9491 - Accuracy: 8.5411%: 100%|██████████| 776/776 [01:48<00:00,  7.16it/s]\n",
            "EPOCH:3 - Loss: 9.9481 - Accuracy: 8.5854%: 100%|██████████| 776/776 [01:43<00:00,  7.46it/s]\n",
            "EPOCH:4 - Loss: 9.9473 - Accuracy: 8.6265%: 100%|██████████| 776/776 [01:43<00:00,  7.46it/s]\n",
            "EPOCH:5 - Loss: 9.9465 - Accuracy: 8.6630%: 100%|██████████| 776/776 [01:43<00:00,  7.47it/s]\n"
          ]
        }
      ]
    },
    {
      "cell_type": "code",
      "source": [
        "plt.plot(losses, color = 'blue')\n",
        "plt.xticks(rotation ='vertical')\n",
        "plt.xlabel(\"epochs\")\n",
        "plt.ylabel(\"loss\")\n",
        "plt.title(\"loss per each propagation\")\n",
        "plt.show()"
      ],
      "metadata": {
        "colab": {
          "base_uri": "https://localhost:8080/",
          "height": 301
        },
        "id": "A4ZdVNiGd-R0",
        "outputId": "41886eab-3fdc-4ccf-a110-0ba47973ec06"
      },
      "execution_count": 444,
      "outputs": [
        {
          "output_type": "display_data",
          "data": {
            "text/plain": [
              "<Figure size 432x288 with 1 Axes>"
            ],
            "image/png": "[encoded data removed]"
          },
          "metadata": {
            "needs_background": "light"
          }
        }
      ]
    },
    {
      "cell_type": "code",
      "source": [
        "plt.plot(accs, color = 'blue')\n",
        "plt.xticks(rotation ='vertical')\n",
        "plt.xlabel(\"epochs\")\n",
        "plt.ylabel(\"accuracy\")\n",
        "plt.title(\"loss per each propagation\")\n",
        "plt.show()"
      ],
      "metadata": {
        "colab": {
          "base_uri": "https://localhost:8080/",
          "height": 301
        },
        "id": "ZBpai_sugATR",
        "outputId": "f8039653-2fc1-49ea-f4ab-de179fb06ee3"
      },
      "execution_count": 445,
      "outputs": [
        {
          "output_type": "display_data",
          "data": {
            "text/plain": [
              "<Figure size 432x288 with 1 Axes>"
            ],
            "image/png": "[encoded data removed]"
          },
          "metadata": {
            "needs_background": "light"
          }
        }
      ]
    },
    {
      "cell_type": "markdown",
      "source": [
        "##generation"
      ],
      "metadata": {
        "id": "g6_IBgUvcNuq"
      }
    },
    {
      "cell_type": "code",
      "source": [
        "X1 = train_data[:,0,:].reshape((49608,30))\n",
        "y1 = train_data[:,1,:].reshape((49608,30))\n",
        "\n",
        "X1 = torch.from_numpy(X1)\n",
        "y1 = torch.from_numpy(y1)\n",
        "\n",
        "train_dataset1 = TensorDataset(X1, y1)\n",
        "train_dataloader1 = DataLoader(train_dataset1, batch_size=1, shuffle=True)"
      ],
      "metadata": {
        "id": "YYhXRYb-gf-5"
      },
      "execution_count": 446,
      "outputs": []
    },
    {
      "cell_type": "code",
      "source": [
        "m= [\"چو آفتاب روز آمدش بر میان\",\"پدیدار شد رزم آن شیردلان\"]\n",
        "m[0],m[1] = tokenizer.tokenize(m[0]), tokenizer.tokenize(m[1])"
      ],
      "metadata": {
        "id": "jLS2tFeQsPg3"
      },
      "execution_count": 447,
      "outputs": []
    },
    {
      "cell_type": "code",
      "source": [
        "m[0],m[1] = np.array(tokenizer.convert_tokens_to_ids(m[0])),np.array(tokenizer.convert_tokens_to_ids(m[1]))"
      ],
      "metadata": {
        "id": "IYlnwmTIsxNa"
      },
      "execution_count": 448,
      "outputs": []
    },
    {
      "cell_type": "code",
      "source": [
        "n = np.concatenate((m[0],[0,0,0,0,0,0,0,15],m[1],[0,0,0,0,0,0,0,0,9]))"
      ],
      "metadata": {
        "id": "-fdWV6Y2tGgr"
      },
      "execution_count": 449,
      "outputs": []
    },
    {
      "cell_type": "code",
      "source": [
        "model.eval()\n",
        "outputs = model(torch.tensor(n.reshape(30,1),device=device),torch.tensor(n.reshape(30,1),device=device),teacher_force_ratio=0.0)\n",
        "outputs = torch.argmax(outputs.reshape(30,25000),dim = 1)\n",
        "print(tokenizer.decode(outputs))"
      ],
      "metadata": {
        "colab": {
          "base_uri": "https://localhost:8080/"
        },
        "id": "HGUP_2d_vAmP",
        "outputId": "1ab49a31-45a5-4263-e1d4-bc6e663e5bce"
      },
      "execution_count": 450,
      "outputs": [
        {
          "output_type": "stream",
          "name": "stdout",
          "text": [
            "و و و و و و و و و و و و و[BOP][BOP][BOP][BOP][BOP][BOP][BOP][BOP][BOP][BOP] و و و و و[EOS][EOS]\n"
          ]
        }
      ]
    },
    {
      "cell_type": "code",
      "source": [
        "counter = 0\n",
        "for sample_x, sample_y in train_dataloader1:\n",
        "  x = sample_x.T.to(device)\n",
        "  #tokenizer.decode(sample_x.reshape(30,1))\n",
        "  y= sample_y.T.to(device)\n",
        "  #tokenizer.decode(sample_y.reshape(30,1))\n",
        "  output = model(x,y,teacher_force_ratio=0.0)\n",
        "  output = torch.argmax(output.reshape(30,25000),dim = 1)\n",
        "  print(tokenizer.decode(output))\n",
        "  counter+=1\n",
        "  if counter ==6 :\n",
        "    break"
      ],
      "metadata": {
        "id": "9Ci-JPCmQ_ER",
        "colab": {
          "base_uri": "https://localhost:8080/"
        },
        "outputId": "b7167b20-b6d9-4e1d-de2d-200a35b7c2e6"
      },
      "execution_count": 454,
      "outputs": [
        {
          "output_type": "stream",
          "name": "stdout",
          "text": [
            "و و و و و و و و و و و و[BOP][BOP][BOP][BOP] و و و و و و و و و و و[EOS][EOS][EOS]\n",
            "و و و و و و و و و و و و[BOP][BOP][BOP][BOP] و و و و و و و و و و و[EOS][EOS][EOS]\n",
            "و و و و و و و و و و و و[BOP][BOP][BOP][BOP][BOP] و و و و و و و و و و[EOS][EOS][EOS]\n",
            "و و و و و و و و و و و و[BOP][BOP][BOP][BOP][BOP] و و و و و و و و و و[EOS][EOS][EOS]\n",
            "و و و و و و و و و و و و[BOP][BOP][BOP][BOP][BOP] و و و و و و و و و و[EOS][EOS][EOS]\n",
            "و و و و و و و و و و و و[BOP][BOP][BOP][BOP][BOP] و و و و و و و و و و[EOS][EOS][EOS]\n"
          ]
        }
      ]
    },
    {
      "cell_type": "markdown",
      "source": [
        "high overfitting problem is obvious, currently no solution comes to mind."
      ],
      "metadata": {
        "id": "1YqRe2farqI2"
      }
    },
    {
      "cell_type": "markdown",
      "source": [
        "#Section 3: GRU"
      ],
      "metadata": {
        "id": "DZ9NplBKzLeU"
      }
    },
    {
      "cell_type": "markdown",
      "source": [
        "##Training subsection:"
      ],
      "metadata": {
        "id": "s3ZRkUQQ5mNl"
      }
    },
    {
      "cell_type": "code",
      "source": [
        "class Encoder(nn.Module):\n",
        "  def __init__(self, input_size, embedding_size, hidden_size, num_layers, dropout_p):\n",
        "    super(Encoder, self).__init__()\n",
        "\n",
        "    self.hidden_size = hidden_size\n",
        "    self.num_layers = num_layers\n",
        "\n",
        "    self.dropout = nn.Dropout(dropout_p)\n",
        "    self.embedding = nn.Embedding(input_size, embedding_size)\n",
        "    self.gru = nn.GRU(embedding_size, hidden_size, num_layers, dropout=dropout_p)\n",
        "\n",
        "  def forward(self, input):\n",
        "    embedding = self.dropout(self.embedding(input))\n",
        "    output, hidden = self.gru(embedding)\n",
        "\n",
        "    return hidden\n",
        "\n",
        "class Decoder(nn.Module):\n",
        "  def __init__(self, input_size, embedding_size, hidden_size, num_layers, dropout_p):\n",
        "    super(Decoder, self).__init__()\n",
        "\n",
        "    self.hidden_size = hidden_size\n",
        "    self.num_layers = num_layers\n",
        "\n",
        "    self.dropout = nn.Dropout(dropout_p)\n",
        "    self.embedding = nn.Embedding(input_size, embedding_size)\n",
        "    self.gru = nn.GRU(embedding_size, hidden_size, num_layers, dropout=dropout_p)\n",
        "    self.fc = nn.Linear(hidden_size, input_size)\n",
        "    self.softmax = nn.Softmax(dim=-1)\n",
        "\n",
        "  def forward(self, input, hidden):\n",
        "    input = input.unsqueeze(0)\n",
        "\n",
        "    embedding = self.dropout(self.embedding(input))\n",
        "    output, hidden = self.gru(embedding,hidden)\n",
        "    prediction = self.softmax(self.fc(output))\n",
        "    prediction = prediction.squeeze(0)\n",
        "\n",
        "    return prediction, hidden\n",
        "\n",
        "class Seq2Seq(nn.Module):\n",
        "  def __init__(self, encoder, decoder):\n",
        "    super(Seq2Seq, self).__init__()\n",
        "    self.encoder = encoder\n",
        "    self.decoder = decoder\n",
        "\n",
        "  def forward(self, input, target, teacher_force_ratio=0.5, vocab_size=25000):\n",
        "    batch_size = input.shape[1]\n",
        "    target_len  = target.shape[0]\n",
        "\n",
        "    outputs = torch.zeros(target_len, batch_size, vocab_size, device=device)\n",
        "\n",
        "    hidden = self.encoder(input)\n",
        "\n",
        "    x=torch.ones_like(target[0],device=device).to(torch.int)*8\n",
        "\n",
        "    for t in range(1, target_len):\n",
        "      output, hidden = self.decoder(x, hidden)\n",
        "\n",
        "      outputs[t] = output\n",
        "\n",
        "      best_guess = output.argmax(dim=1)\n",
        "\n",
        "      x = target[t] if random.random()<teacher_force_ratio else best_guess\n",
        "\n",
        "    return outputs\n"
      ],
      "metadata": {
        "id": "W2ndzz7NmqHc"
      },
      "execution_count": 455,
      "outputs": []
    },
    {
      "cell_type": "code",
      "source": [
        "num_epochs = 5\n",
        "learning_rate=1e-2\n",
        "batch_size=64\n",
        "input_size = po_persian.n_words\n",
        "embedding_size = 128\n",
        "hidden_size = 128\n",
        "num_layers = 2\n",
        "dropout=0.5"
      ],
      "metadata": {
        "id": "sk0LEI9Y9gMd"
      },
      "execution_count": 456,
      "outputs": []
    },
    {
      "cell_type": "code",
      "source": [
        "encoder2 = Encoder(input_size, embedding_size, hidden_size, num_layers, dropout).to(device)\n",
        "decoder2 = Decoder(input_size, embedding_size, hidden_size, num_layers, dropout).to(device)\n",
        "\n",
        "model = Seq2Seq(encoder2, decoder2)"
      ],
      "metadata": {
        "id": "ipE-SsRf9hZM"
      },
      "execution_count": 457,
      "outputs": []
    },
    {
      "cell_type": "code",
      "source": [
        "optimizer = torch.optim.Adam(model.parameters(), lr=learning_rate, capturable=True)\n",
        "criterion = nn.CrossEntropyLoss(ignore_index=0)"
      ],
      "metadata": {
        "id": "QPAnWMjT9lWE"
      },
      "execution_count": 458,
      "outputs": []
    },
    {
      "cell_type": "code",
      "source": [
        "losses = []\n",
        "accs = []\n",
        "model.train()\n",
        "for epoch in range(num_epochs):\n",
        "    epoch_loss = 0\n",
        "    accuracy = 0\n",
        "    with tqdm(enumerate(train_dataloader),total=len(train_dataloader)) as pbar:\n",
        "      for i,(X, y) in pbar:\n",
        "          X = X.T.to(device)\n",
        "          y = y.T.type(torch.LongTensor).to(device)\n",
        "\n",
        "          optimizer.zero_grad()\n",
        "          outputs = model(X,y)\n",
        "          outputs = outputs[1:].reshape(-1,outputs.shape[2])\n",
        "          y = y[1:].reshape(-1)\n",
        "\n",
        "\n",
        "          loss = criterion(outputs, y)\n",
        "          acc = calculate_accuracy(outputs, y)\n",
        "          accuracy += acc\n",
        "          epoch_loss += loss\n",
        "\n",
        "          loss.backward()\n",
        "\n",
        "          torch.nn.utils.clip_grad_norm_(model.parameters(),max_norm=1)\n",
        "          optimizer.step()\n",
        "\n",
        "          pbar.set_description(f'EPOCH:{epoch+1} - Loss: {epoch_loss/(i+1):.4f} - Accuracy: {accuracy*100/(i+1):.4f}%')\n",
        "      losses.append((epoch_loss/len(pbar)).cpu().item())\n",
        "      accs.append((accuracy*100/len(pbar)).cpu().item())\n",
        "      if (losses[-1]==min(losses)):\n",
        "          torch.save(model.state_dict(), 'Ferdousi_gru.pth')"
      ],
      "metadata": {
        "id": "n2lJtAUY5lB2",
        "outputId": "fef5009c-8918-4c2a-8ec0-7e1a95a9e662",
        "colab": {
          "base_uri": "https://localhost:8080/"
        }
      },
      "execution_count": 460,
      "outputs": [
        {
          "output_type": "stream",
          "name": "stderr",
          "text": [
            "EPOCH:1 - Loss: 9.9679 - Accuracy: 7.6718%: 100%|██████████| 776/776 [01:43<00:00,  7.49it/s]\n",
            "EPOCH:2 - Loss: 9.9527 - Accuracy: 8.3627%: 100%|██████████| 776/776 [01:38<00:00,  7.89it/s]\n",
            "EPOCH:3 - Loss: 9.9530 - Accuracy: 8.3486%: 100%|██████████| 776/776 [01:38<00:00,  7.90it/s]\n",
            "EPOCH:4 - Loss: 9.9528 - Accuracy: 8.3577%: 100%|██████████| 776/776 [01:38<00:00,  7.90it/s]\n",
            "EPOCH:5 - Loss: 9.9523 - Accuracy: 8.3846%: 100%|██████████| 776/776 [01:38<00:00,  7.91it/s]\n"
          ]
        }
      ]
    },
    {
      "cell_type": "code",
      "source": [
        "plt.plot(losses, color = 'blue')\n",
        "plt.xticks(rotation ='vertical')\n",
        "plt.xlabel(\"epochs\")\n",
        "plt.ylabel(\"loss\")\n",
        "plt.title(\"loss per each propagation\")\n",
        "plt.show()"
      ],
      "metadata": {
        "colab": {
          "base_uri": "https://localhost:8080/",
          "height": 301
        },
        "outputId": "ed02c4f1-93ea-4549-8bfc-03fd02c3e12b",
        "id": "Dyxx_ZAFsCXj"
      },
      "execution_count": 461,
      "outputs": [
        {
          "output_type": "display_data",
          "data": {
            "text/plain": [
              "<Figure size 432x288 with 1 Axes>"
            ],
            "image/png": "[encoded data removed]"
          },
          "metadata": {
            "needs_background": "light"
          }
        }
      ]
    },
    {
      "cell_type": "code",
      "source": [
        "plt.plot(accs, color = 'blue')\n",
        "plt.xticks(rotation ='vertical')\n",
        "plt.xlabel(\"epochs\")\n",
        "plt.ylabel(\"accuracy\")\n",
        "plt.title(\"loss per each propagation\")\n",
        "plt.show()"
      ],
      "metadata": {
        "colab": {
          "base_uri": "https://localhost:8080/",
          "height": 301
        },
        "outputId": "5cf884aa-cc0c-4fd2-93a3-a078e1c4e6f8",
        "id": "s8_oq3BusCXj"
      },
      "execution_count": 462,
      "outputs": [
        {
          "output_type": "display_data",
          "data": {
            "text/plain": [
              "<Figure size 432x288 with 1 Axes>"
            ],
            "image/png": "[encoded data removed]"
          },
          "metadata": {
            "needs_background": "light"
          }
        }
      ]
    },
    {
      "cell_type": "markdown",
      "source": [
        "##Generation"
      ],
      "metadata": {
        "id": "fXk0tDOb-SJb"
      }
    },
    {
      "cell_type": "code",
      "source": [
        "X1 = train_data[:,0,:].reshape((49608,30))\n",
        "y1 = train_data[:,1,:].reshape((49608,30))\n",
        "\n",
        "X1 = torch.from_numpy(X1)\n",
        "y1 = torch.from_numpy(y1)\n",
        "\n",
        "train_dataset1 = TensorDataset(X1, y1)\n",
        "train_dataloader1 = DataLoader(train_dataset1, batch_size=1, shuffle=True)"
      ],
      "metadata": {
        "id": "R8blm-dc-UZQ"
      },
      "execution_count": 463,
      "outputs": []
    },
    {
      "cell_type": "code",
      "source": [
        "m= [\"چو آفتاب روز آمدش بر میان\",\"پدیدار شد رزم آن شیردلان\"]\n",
        "m[0],m[1] = tokenizer.tokenize(m[0]), tokenizer.tokenize(m[1])"
      ],
      "metadata": {
        "id": "Y1EvbYNf-UZR"
      },
      "execution_count": 464,
      "outputs": []
    },
    {
      "cell_type": "code",
      "source": [
        "m[0],m[1] = np.array(tokenizer.convert_tokens_to_ids(m[0])),np.array(tokenizer.convert_tokens_to_ids(m[1]))"
      ],
      "metadata": {
        "id": "WJcWjTBZ-UZS"
      },
      "execution_count": 465,
      "outputs": []
    },
    {
      "cell_type": "code",
      "source": [
        "n = np.concatenate((m[0],[0,0,0,0,0,0,0,15],m[1],[0,0,0,0,0,0,0,0,9]))"
      ],
      "metadata": {
        "id": "dx8Rx3a7-UZT"
      },
      "execution_count": 466,
      "outputs": []
    },
    {
      "cell_type": "code",
      "source": [
        "model.eval()\n",
        "outputs = model(torch.tensor(n.reshape(30,1),device=device),torch.tensor(n.reshape(30,1),device=device),teacher_force_ratio=0.0)\n",
        "outputs = torch.argmax(outputs.reshape(30,25000),dim = 1)\n",
        "print(tokenizer.decode(outputs))"
      ],
      "metadata": {
        "colab": {
          "base_uri": "https://localhost:8080/"
        },
        "outputId": "f4617ccc-5c37-4c08-88f8-e8a90bd85d42",
        "id": "rft200iq-UZT"
      },
      "execution_count": 467,
      "outputs": [
        {
          "output_type": "stream",
          "name": "stdout",
          "text": [
            "<unk> و و و و و و و و و و و و و و و و و و و و و و و و و و و و و\n"
          ]
        }
      ]
    },
    {
      "cell_type": "code",
      "source": [
        "counter = 0\n",
        "for sample_x, sample_y in train_dataloader1:\n",
        "  x = sample_x.T.to(device)\n",
        "  y= sample_y.T.to(device)\n",
        "  #tokenizer.decode(sample_y.reshape(30,1))\n",
        "  output = model(x,y,teacher_force_ratio=0.0)\n",
        "  output = torch.argmax(output.reshape(30,25000),dim = 1)\n",
        "  print(tokenizer.decode(output))\n",
        "  counter+=1\n",
        "  if counter ==6 :\n",
        "    break"
      ],
      "metadata": {
        "colab": {
          "base_uri": "https://localhost:8080/"
        },
        "outputId": "0cd31588-a47a-49d8-ee3f-9915a3a54419",
        "id": "aaMBkfaq-UZU"
      },
      "execution_count": 471,
      "outputs": [
        {
          "output_type": "stream",
          "name": "stdout",
          "text": [
            "<unk> و و و و و و و و و و و و و و و و و و و و و و و و و و و و و\n",
            "<unk> و و و و و و و و و و و و و و و و و و و و و و و و و و و و و\n",
            "<unk> و و و و و و و و و و و و و و و و و و و و و و و و و و و و و\n",
            "<unk> و و و و و و و و و و و و و و و و و و و و و و و و و و و و و\n",
            "<unk> و و و و و و و و و و و و و و و و و و و و و و و و و و و و و\n",
            "<unk> و و و و و و و و و و و و و و و و و و و و و و و و و و و و و\n"
          ]
        }
      ]
    }
  ]
}